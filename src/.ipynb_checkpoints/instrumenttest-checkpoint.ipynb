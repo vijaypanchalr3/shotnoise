{
 "cells": [
  {
   "cell_type": "code",
   "execution_count": null,
   "id": "1f117fbc-7b7b-4af8-86c0-8623b4b1a779",
   "metadata": {},
   "outputs": [],
   "source": [
    "import numpy as np\n",
    "import matplotlib.pyplot as plt"
   ]
  },
  {
   "cell_type": "code",
   "execution_count": 6,
   "id": "c08b7928-7481-4f70-a608-eb46a6b37388",
   "metadata": {},
   "outputs": [],
   "source": [
    "import pyvisa\n",
    "from termcolor import cprint"
   ]
  },
  {
   "cell_type": "code",
   "execution_count": 4,
   "id": "2c7dd137-7cc8-483f-90fb-28b59b61deec",
   "metadata": {},
   "outputs": [],
   "source": [
    "def testGPIB(device):\n",
    "    device.query(\"*IDN?\")\n",
    "    time.sleep(0.01)\n",
    "    print(device.read())\n",
    "    time.sleep(0.01)\n",
    "    return 0"
   ]
  },
  {
   "cell_type": "code",
   "execution_count": 7,
   "id": "dd9d56bd-d1bd-459e-a837-ffe732771f1e",
   "metadata": {},
   "outputs": [
    {
     "name": "stdout",
     "output_type": "stream",
     "text": [
      "\u001b[1m\u001b[34mWARNING: no GPIB connection detected\u001b[0m\n"
     ]
    }
   ],
   "source": [
    "try:                            # try for GPIB connection\n",
    "    resource = pyvisa.ResourceManager()\n",
    "    SR830 = resource.open_resource('GPIB0::8::INSTR')\n",
    "    cprint(SR830,\"green\")\n",
    "    if input()==\"y\":\n",
    "        pass\n",
    "    else:\n",
    "        sys.exit()\n",
    "    connection = \"GPIB\"\n",
    "    \n",
    "except:\n",
    "    cprint(\"WARNING: no GPIB connection detected\",\"blue\",attrs=['bold'])\n"
   ]
  },
  {
   "cell_type": "code",
   "execution_count": null,
   "id": "ff80d178-5193-40b7-97b1-d192714dd68e",
   "metadata": {},
   "outputs": [],
   "source": []
  }
 ],
 "metadata": {
  "kernelspec": {
   "display_name": "env",
   "language": "python",
   "name": "env"
  },
  "language_info": {
   "codemirror_mode": {
    "name": "ipython",
    "version": 3
   },
   "file_extension": ".py",
   "mimetype": "text/x-python",
   "name": "python",
   "nbconvert_exporter": "python",
   "pygments_lexer": "ipython3",
   "version": "3.11.5"
  }
 },
 "nbformat": 4,
 "nbformat_minor": 5
}
